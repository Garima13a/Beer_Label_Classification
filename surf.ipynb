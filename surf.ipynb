{
 "cells": [
  {
   "cell_type": "code",
   "execution_count": 17,
   "metadata": {},
   "outputs": [],
   "source": [
    "import cv2\n",
    "import argparse\n",
    "import numpy as np\n",
    "import os\n",
    "import pickle\n",
    "from tqdm import tqdm"
   ]
  },
  {
   "cell_type": "code",
   "execution_count": 18,
   "metadata": {},
   "outputs": [
    {
     "name": "stdout",
     "output_type": "stream",
     "text": [
      "[INFO] Creating descriptors...\n"
     ]
    },
    {
     "name": "stderr",
     "output_type": "stream",
     "text": [
      "\n",
      "Processing images:   0%|          | 0/100 [00:00<?, ?it/s]\u001b[A\n",
      "Processing images:   1%|          | 1/100 [00:04<07:05,  4.30s/it]\u001b[A\n",
      "Processing images:   2%|▏         | 2/100 [00:06<05:53,  3.60s/it]\u001b[A\n",
      "Processing images:   3%|▎         | 3/100 [00:06<04:12,  2.60s/it]\u001b[A\n",
      "Processing images:   4%|▍         | 4/100 [00:06<03:03,  1.91s/it]\u001b[A\n",
      "Processing images:   5%|▌         | 5/100 [00:07<02:11,  1.39s/it]\u001b[A\n",
      "Processing images:   6%|▌         | 6/100 [00:07<01:36,  1.03s/it]\u001b[A\n",
      "Processing images:   7%|▋         | 7/100 [00:08<01:52,  1.21s/it]\u001b[A\n",
      "Processing images:   8%|▊         | 8/100 [00:09<01:36,  1.05s/it]\u001b[A\n",
      "Processing images:   9%|▉         | 9/100 [00:10<01:32,  1.01s/it]\u001b[A\n",
      "Processing images:  11%|█         | 11/100 [00:11<01:13,  1.21it/s]\u001b[A\n",
      "Processing images:  12%|█▏        | 12/100 [00:11<00:54,  1.62it/s]\u001b[A\n",
      "Processing images:  13%|█▎        | 13/100 [00:11<00:45,  1.93it/s]\u001b[A\n",
      "Processing images:  15%|█▌        | 15/100 [00:11<00:33,  2.57it/s]\u001b[A\n",
      "Processing images:  16%|█▌        | 16/100 [00:12<00:28,  2.90it/s]\u001b[A\n",
      "Processing images:  17%|█▋        | 17/100 [00:12<00:27,  3.06it/s]\u001b[A\n",
      "Processing images:  18%|█▊        | 18/100 [00:12<00:22,  3.66it/s]\u001b[A\n",
      "Processing images:  20%|██        | 20/100 [00:12<00:19,  4.15it/s]\u001b[A\n",
      "Processing images:  21%|██        | 21/100 [00:13<00:17,  4.46it/s]\u001b[A\n",
      "Processing images:  22%|██▏       | 22/100 [00:13<00:21,  3.64it/s]\u001b[A\n",
      "Processing images:  23%|██▎       | 23/100 [00:13<00:19,  3.88it/s]\u001b[A\n",
      "Processing images:  24%|██▍       | 24/100 [00:14<00:23,  3.23it/s]\u001b[A\n",
      "Processing images:  25%|██▌       | 25/100 [00:14<00:22,  3.37it/s]\u001b[A\n",
      "Processing images:  26%|██▌       | 26/100 [00:14<00:19,  3.79it/s]\u001b[A\n",
      "Processing images:  28%|██▊       | 28/100 [00:14<00:14,  4.96it/s]\u001b[A\n",
      "Processing images:  29%|██▉       | 29/100 [00:14<00:14,  5.03it/s]\u001b[A\n",
      "Processing images:  31%|███       | 31/100 [00:14<00:11,  6.18it/s]\u001b[A\n",
      "Processing images:  32%|███▏      | 32/100 [00:15<00:13,  5.00it/s]\u001b[A\n",
      "Processing images:  33%|███▎      | 33/100 [00:15<00:12,  5.38it/s]\u001b[A\n",
      "Processing images:  34%|███▍      | 34/100 [00:15<00:11,  5.92it/s]\u001b[A\n",
      "Processing images:  35%|███▌      | 35/100 [00:15<00:12,  5.35it/s]\u001b[A\n",
      "Processing images:  37%|███▋      | 37/100 [00:15<00:09,  6.36it/s]\u001b[A\n",
      "Processing images:  38%|███▊      | 38/100 [00:16<00:16,  3.77it/s]\u001b[A\n",
      "Processing images:  39%|███▉      | 39/100 [00:16<00:16,  3.79it/s]\u001b[A\n",
      "Processing images:  40%|████      | 40/100 [00:17<00:26,  2.28it/s]\u001b[A\n",
      "Processing images:  42%|████▏     | 42/100 [00:17<00:19,  3.01it/s]\u001b[A\n",
      "Processing images:  44%|████▍     | 44/100 [00:18<00:16,  3.38it/s]\u001b[A\n",
      "Processing images:  45%|████▌     | 45/100 [00:18<00:16,  3.25it/s]\u001b[A\n",
      "Processing images:  46%|████▌     | 46/100 [00:18<00:13,  3.99it/s]\u001b[A\n",
      "Processing images:  48%|████▊     | 48/100 [00:18<00:10,  4.77it/s]\u001b[A\n",
      "Processing images:  49%|████▉     | 49/100 [00:18<00:09,  5.47it/s]\u001b[A\n",
      "Processing images:  51%|█████     | 51/100 [00:19<00:07,  6.70it/s]\u001b[A\n",
      "Processing images:  52%|█████▏    | 52/100 [00:19<00:06,  6.87it/s]\u001b[A\n",
      "Processing images:  54%|█████▍    | 54/100 [00:19<00:05,  8.28it/s]\u001b[A\n",
      "Processing images:  57%|█████▋    | 57/100 [00:19<00:05,  8.14it/s]\u001b[A\n",
      "Processing images:  59%|█████▉    | 59/100 [00:20<00:09,  4.30it/s]\u001b[A\n",
      "Processing images:  61%|██████    | 61/100 [00:20<00:07,  5.40it/s]\u001b[A\n",
      "Processing images:  63%|██████▎   | 63/100 [00:20<00:05,  6.74it/s]\u001b[A\n",
      "Processing images:  65%|██████▌   | 65/100 [00:21<00:04,  8.16it/s]\u001b[A\n",
      "Processing images:  67%|██████▋   | 67/100 [00:21<00:04,  7.45it/s]\u001b[A\n",
      "Processing images:  69%|██████▉   | 69/100 [00:21<00:03,  8.70it/s]\u001b[A\n",
      "Processing images:  71%|███████   | 71/100 [00:21<00:02,  9.98it/s]\u001b[A\n",
      "Processing images:  73%|███████▎  | 73/100 [00:22<00:04,  6.31it/s]\u001b[A\n",
      "Processing images:  75%|███████▌  | 75/100 [00:22<00:03,  7.62it/s]\u001b[A\n",
      "Processing images:  77%|███████▋  | 77/100 [00:22<00:02,  9.10it/s]\u001b[A\n",
      "Processing images:  79%|███████▉  | 79/100 [00:22<00:02, 10.49it/s]\u001b[A\n",
      "Processing images:  81%|████████  | 81/100 [00:22<00:01, 10.73it/s]\u001b[A\n",
      "Processing images:  83%|████████▎ | 83/100 [00:23<00:01,  9.00it/s]\u001b[A\n",
      "Processing images:  85%|████████▌ | 85/100 [00:23<00:02,  6.11it/s]\u001b[A\n",
      "Processing images:  87%|████████▋ | 87/100 [00:23<00:01,  7.56it/s]\u001b[A\n",
      "Processing images:  89%|████████▉ | 89/100 [00:23<00:01,  9.00it/s]\u001b[A\n",
      "Processing images:  91%|█████████ | 91/100 [00:24<00:00, 10.53it/s]\u001b[A\n",
      "Processing images:  93%|█████████▎| 93/100 [00:24<00:00, 11.04it/s]\u001b[A\n",
      "Processing images:  96%|█████████▌| 96/100 [00:24<00:00, 12.53it/s]\u001b[A\n",
      "Processing images:  98%|█████████▊| 98/100 [00:24<00:00, 12.80it/s]\u001b[A\n",
      "Processing images: 100%|██████████| 100/100 [00:24<00:00,  4.05it/s]\u001b[A\n"
     ]
    },
    {
     "name": "stdout",
     "output_type": "stream",
     "text": [
      "done\n"
     ]
    }
   ],
   "source": [
    "descpt_id = 'surf'\n",
    "images_path = '../images/database'\n",
    "images = os.listdir(images_path)\n",
    "images = [os.path.join(images_path, item) for item in images]\n",
    "\n",
    "if descpt_id == 'sift':\n",
    "    feature_extractor = cv2.xfeatures2d.SIFT_create()\n",
    "elif descpt_id == 'surf':\n",
    "    feature_extractor = cv2.xfeatures2d.SURF_create(extended=True)   # For getting descriptor of size 128 instead of 64\n",
    "else:\n",
    "    feature_extractor = cv2.ORB_create()\n",
    "\n",
    "# if not os.path.exists(args.descriptors):\n",
    "print('[INFO] Creating descriptors...')\n",
    "descriptors = dict()\n",
    "for image in tqdm(images, desc='Processing images: '):\n",
    "    image_gray = cv2.imread(image, 0)\n",
    "    image_gray = cv2.resize(image_gray,(400,300))\n",
    "    try:\n",
    "        keypoint, descriptor = feature_extractor.detectAndCompute(image_gray, None)\n",
    "    except Exception as e:\n",
    "        print(e)\n",
    "        pdb.set_trace()\n",
    "    image_name = image.split('/')[-1].split('.')[0]\n",
    "    if image_name not in descriptors.keys():\n",
    "        descriptors[image_name] = descriptor\n",
    "    else:\n",
    "        print('[ERROR] Issue with file {}!\\nCheck for duplicate images.'.format(image))\n",
    "with open(descriptors1, 'wb+') as file:\n",
    "    pickle.dump(descriptors, file)\n",
    "# else:\n",
    "#     print('[INFO] Using previously saved descriptors...')\n",
    "#     with open(args.descriptors, 'rb') as file:\n",
    "#         descriptors = pickle.load(file)\n",
    "if len(descriptors.keys()) != len(images):\n",
    "    raise ValueError(\"Number of descriptors do not match with number of images in the dataset folder. Create a new set of descriptors.\")\n",
    "else:\n",
    "    print(\"done\")"
   ]
  },
  {
   "cell_type": "code",
   "execution_count": 19,
   "metadata": {},
   "outputs": [
    {
     "name": "stdout",
     "output_type": "stream",
     "text": [
      "Loading Pre Computed Descriptors\n"
     ]
    },
    {
     "name": "stderr",
     "output_type": "stream",
     "text": [
      "\n",
      "  0%|          | 0/100 [00:00<?, ?it/s]\u001b[A"
     ]
    },
    {
     "name": "stdout",
     "output_type": "stream",
     "text": [
      "--Database Descriptors Loaded--\n"
     ]
    },
    {
     "name": "stderr",
     "output_type": "stream",
     "text": [
      "\n",
      "  1%|          | 1/100 [00:23<38:29, 23.33s/it]\u001b[A\n",
      "  2%|▏         | 2/100 [00:35<32:45, 20.06s/it]\u001b[A"
     ]
    },
    {
     "name": "stdout",
     "output_type": "stream",
     "text": [
      "[ERROR] database_image: New_Belgium_Ranger_Bottle, query_image: hailstorm_brewing\n"
     ]
    },
    {
     "name": "stderr",
     "output_type": "stream",
     "text": [
      "\n",
      "  3%|▎         | 3/100 [00:42<25:47, 15.95s/it]\u001b[A"
     ]
    },
    {
     "name": "stdout",
     "output_type": "stream",
     "text": [
      "[ERROR] database_image: Mother Earth Brewing Company[, query_image: New_Glarius_Staghorn_Bottle\n"
     ]
    },
    {
     "name": "stderr",
     "output_type": "stream",
     "text": [
      "\n",
      "  4%|▍         | 4/100 [01:02<27:52, 17.42s/it]\u001b[A\n",
      "  5%|▌         | 5/100 [01:06<21:05, 13.32s/it]\u001b[A"
     ]
    },
    {
     "name": "stdout",
     "output_type": "stream",
     "text": [
      "[ERROR] database_image: hoegaarden, query_image: Padding_Wood_Czech_Mate_Bottle\n"
     ]
    },
    {
     "name": "stderr",
     "output_type": "stream",
     "text": [
      "\n",
      "  6%|▌         | 6/100 [01:25<23:30, 15.01s/it]\u001b[A"
     ]
    },
    {
     "name": "stdout",
     "output_type": "stream",
     "text": [
      "[ERROR] database_image: Mustang Brewing Company, query_image: coors_light\n"
     ]
    },
    {
     "name": "stderr",
     "output_type": "stream",
     "text": [
      "\n",
      "  7%|▋         | 7/100 [02:41<51:20, 33.12s/it]\u001b[A"
     ]
    },
    {
     "name": "stdout",
     "output_type": "stream",
     "text": [
      "[ERROR] database_image: bud_light_platinum2, query_image: High Point Brewing\n"
     ]
    },
    {
     "name": "stderr",
     "output_type": "stream",
     "text": [
      "\n",
      "  8%|▊         | 8/100 [03:06<47:20, 30.88s/it]\u001b[A\n",
      "  9%|▉         | 9/100 [03:14<36:30, 24.07s/it]\u001b[A\n",
      " 10%|█         | 10/100 [03:26<30:34, 20.39s/it]\u001b[A\n",
      " 11%|█         | 11/100 [03:30<23:05, 15.56s/it]\u001b[A"
     ]
    },
    {
     "name": "stdout",
     "output_type": "stream",
     "text": [
      "[ERROR] database_image: bud_light_platinum2, query_image: NOLA_Arbella_Bottle\n"
     ]
    },
    {
     "name": "stderr",
     "output_type": "stream",
     "text": [
      "\n",
      " 12%|█▏        | 12/100 [03:39<19:52, 13.55s/it]\u001b[A"
     ]
    },
    {
     "name": "stdout",
     "output_type": "stream",
     "text": [
      "[ERROR] database_image: New_Belgium_Slow_Ride, query_image: crafty_irish_lager\n"
     ]
    },
    {
     "name": "stderr",
     "output_type": "stream",
     "text": [
      "\n",
      " 13%|█▎        | 13/100 [03:49<17:44, 12.24s/it]\u001b[A"
     ]
    },
    {
     "name": "stdout",
     "output_type": "stream",
     "text": [
      "[ERROR] database_image: bud_light_platinum2, query_image: Music City Beer Company\n"
     ]
    },
    {
     "name": "stderr",
     "output_type": "stream",
     "text": [
      "\n",
      " 14%|█▍        | 14/100 [03:51<13:18,  9.28s/it]\u001b[A"
     ]
    },
    {
     "name": "stdout",
     "output_type": "stream",
     "text": [
      "[ERROR] database_image: New_Glarus_Spotted_Cow_Bottle, query_image: bira_white\n"
     ]
    },
    {
     "name": "stderr",
     "output_type": "stream",
     "text": [
      "\n",
      " 15%|█▌        | 15/100 [03:55<11:03,  7.81s/it]\u001b[A"
     ]
    },
    {
     "name": "stdout",
     "output_type": "stream",
     "text": [
      "[ERROR] database_image: Mustang Brewing Company, query_image: Ore_Dock_Fresh_Coast_Bottle\n"
     ]
    },
    {
     "name": "stderr",
     "output_type": "stream",
     "text": [
      "\n",
      " 16%|█▌        | 16/100 [04:01<10:01,  7.16s/it]\u001b[A"
     ]
    },
    {
     "name": "stdout",
     "output_type": "stream",
     "text": [
      "[ERROR] database_image: New_Belgium_Slow_Ride, query_image: HairoftheDogBrewingCompany\n"
     ]
    },
    {
     "name": "stderr",
     "output_type": "stream",
     "text": [
      "\n",
      " 17%|█▋        | 17/100 [04:12<11:36,  8.39s/it]\u001b[A\n",
      " 18%|█▊        | 18/100 [04:18<10:34,  7.74s/it]\u001b[A"
     ]
    },
    {
     "name": "stdout",
     "output_type": "stream",
     "text": [
      "[ERROR] database_image: miller_genuine_draft, query_image: Monument City Brewing\n"
     ]
    },
    {
     "name": "stderr",
     "output_type": "stream",
     "text": [
      "\n",
      " 19%|█▉        | 19/100 [04:22<08:45,  6.49s/it]\u001b[A"
     ]
    },
    {
     "name": "stdout",
     "output_type": "stream",
     "text": [
      "[ERROR] database_image: busch, query_image: Nashville_Lager_Beer_Bottle\n"
     ]
    },
    {
     "name": "stderr",
     "output_type": "stream",
     "text": [
      "\n",
      " 20%|██        | 20/100 [04:27<08:10,  6.14s/it]\u001b[A"
     ]
    },
    {
     "name": "stdout",
     "output_type": "stream",
     "text": [
      "[ERROR] database_image: icehouse, query_image: fosters\n"
     ]
    },
    {
     "name": "stderr",
     "output_type": "stream",
     "text": [
      "\n",
      " 21%|██        | 21/100 [06:48<1:01:02, 46.36s/it]\u001b[A"
     ]
    },
    {
     "name": "stdout",
     "output_type": "stream",
     "text": [
      "[ERROR] database_image: bud_light_platinum2, query_image: Harry Stuff Brewing\n"
     ]
    },
    {
     "name": "stderr",
     "output_type": "stream",
     "text": [
      "\n",
      " 22%|██▏       | 22/100 [06:58<46:20, 35.65s/it]  \u001b[A\n",
      " 23%|██▎       | 23/100 [07:41<48:31, 37.81s/it]\u001b[A\n",
      " 24%|██▍       | 24/100 [07:49<36:31, 28.84s/it]\u001b[A"
     ]
    },
    {
     "name": "stdout",
     "output_type": "stream",
     "text": [
      "[ERROR] database_image: hoegaarden, query_image: redds_apple\n"
     ]
    },
    {
     "name": "stderr",
     "output_type": "stream",
     "text": [
      "\n",
      " 25%|██▌       | 25/100 [08:01<29:43, 23.77s/it]\u001b[A"
     ]
    },
    {
     "name": "stdout",
     "output_type": "stream",
     "text": [
      "[ERROR] database_image: busch, query_image: harpoon_ipa\n"
     ]
    },
    {
     "name": "stderr",
     "output_type": "stream",
     "text": [
      "\n",
      " 26%|██▌       | 26/100 [08:07<22:38, 18.36s/it]\u001b[A"
     ]
    },
    {
     "name": "stdout",
     "output_type": "stream",
     "text": [
      "[ERROR] database_image: New_Belgium_Slow_Ride, query_image: harpoon_ipa2\n"
     ]
    },
    {
     "name": "stderr",
     "output_type": "stream",
     "text": [
      "\n",
      " 27%|██▋       | 27/100 [08:10<16:46, 13.78s/it]\u001b[A"
     ]
    },
    {
     "name": "stdout",
     "output_type": "stream",
     "text": [
      "[ERROR] database_image: NOLA_Peity_Bottle, query_image: fat_tire\n"
     ]
    },
    {
     "name": "stderr",
     "output_type": "stream",
     "text": [
      "\n",
      " 28%|██▊       | 28/100 [08:32<19:35, 16.32s/it]\u001b[A"
     ]
    },
    {
     "name": "stdout",
     "output_type": "stream",
     "text": [
      "[ERROR] database_image: bud_light_platinum2, query_image: Myriad Brewing\n"
     ]
    },
    {
     "name": "stderr",
     "output_type": "stream",
     "text": [
      "\n",
      " 29%|██▉       | 29/100 [09:27<32:59, 27.88s/it]\u001b[A"
     ]
    },
    {
     "name": "stdout",
     "output_type": "stream",
     "text": [
      "[ERROR] database_image: bud_light_platinum2, query_image: Hightower Brewing Company\n"
     ]
    },
    {
     "name": "stderr",
     "output_type": "stream",
     "text": [
      "\n",
      " 30%|███       | 30/100 [09:37<26:26, 22.67s/it]\u001b[A"
     ]
    },
    {
     "name": "stdout",
     "output_type": "stream",
     "text": [
      "[ERROR] database_image: Mustang Brewing Company, query_image: tecate\n"
     ]
    },
    {
     "name": "stderr",
     "output_type": "stream",
     "text": [
      "\n",
      " 31%|███       | 31/100 [09:46<21:24, 18.61s/it]\u001b[A\n",
      " 32%|███▏      | 32/100 [10:08<22:05, 19.50s/it]\u001b[A\n",
      " 33%|███▎      | 33/100 [10:21<19:36, 17.55s/it]\u001b[A"
     ]
    },
    {
     "name": "stdout",
     "output_type": "stream",
     "text": [
      "[ERROR] database_image: bud_light_platinum2, query_image: Mucky Duck Brewery\n"
     ]
    },
    {
     "name": "stderr",
     "output_type": "stream",
     "text": [
      "\n",
      " 34%|███▍      | 34/100 [10:28<15:38, 14.22s/it]\u001b[A\n",
      " 35%|███▌      | 35/100 [10:47<17:08, 15.83s/it]\u001b[A"
     ]
    },
    {
     "name": "stdout",
     "output_type": "stream",
     "text": [
      "[ERROR] database_image: yuengling2, query_image: st_pauli_girl\n"
     ]
    },
    {
     "name": "stderr",
     "output_type": "stream",
     "text": [
      "\n",
      " 36%|███▌      | 36/100 [10:54<14:03, 13.18s/it]\u001b[A"
     ]
    },
    {
     "name": "stdout",
     "output_type": "stream",
     "text": [
      "[ERROR] database_image: hoegaarden, query_image: miller_lite2\n"
     ]
    },
    {
     "name": "stderr",
     "output_type": "stream",
     "text": [
      "\n",
      " 37%|███▋      | 37/100 [11:06<13:29, 12.85s/it]\u001b[A"
     ]
    },
    {
     "name": "stdout",
     "output_type": "stream",
     "text": [
      "[ERROR] database_image: corona_light, query_image: Motor Row Brewing\n"
     ]
    },
    {
     "name": "stderr",
     "output_type": "stream",
     "text": [
      "\n",
      " 38%|███▊      | 38/100 [12:36<37:17, 36.10s/it]\u001b[A"
     ]
    },
    {
     "name": "stdout",
     "output_type": "stream",
     "text": [
      "[ERROR] database_image: bud_light_platinum2, query_image: guinness_extra_stout\n"
     ]
    },
    {
     "name": "stderr",
     "output_type": "stream",
     "text": [
      "\n",
      " 39%|███▉      | 39/100 [12:50<29:54, 29.42s/it]\u001b[A\n",
      " 40%|████      | 40/100 [13:11<26:41, 26.69s/it]\u001b[A\n",
      " 41%|████      | 41/100 [14:35<43:21, 44.10s/it]\u001b[A"
     ]
    },
    {
     "name": "stdout",
     "output_type": "stream",
     "text": [
      "[ERROR] database_image: rolling_rock, query_image: natural_light\n"
     ]
    },
    {
     "name": "stderr",
     "output_type": "stream",
     "text": [
      "\n",
      " 42%|████▏     | 42/100 [14:49<33:52, 35.04s/it]\u001b[A"
     ]
    },
    {
     "name": "stdout",
     "output_type": "stream",
     "text": [
      "[ERROR] database_image: corona_light, query_image: The Lucky Monk\n"
     ]
    },
    {
     "name": "stderr",
     "output_type": "stream",
     "text": [
      "\n",
      " 43%|████▎     | 43/100 [14:55<24:57, 26.28s/it]\u001b[A"
     ]
    },
    {
     "name": "stdout",
     "output_type": "stream",
     "text": [
      "[ERROR] database_image: Mustang Brewing Company, query_image: Ore_Dock_Saison_Bottle\n"
     ]
    },
    {
     "name": "stderr",
     "output_type": "stream",
     "text": [
      "\n",
      " 44%|████▍     | 44/100 [15:49<32:17, 34.59s/it]\u001b[A"
     ]
    },
    {
     "name": "stdout",
     "output_type": "stream",
     "text": [
      "[ERROR] database_image: New_Belgium_Slow_Ride, query_image: amstel_light\n"
     ]
    },
    {
     "name": "stderr",
     "output_type": "stream",
     "text": [
      "\n",
      " 45%|████▌     | 45/100 [16:01<25:29, 27.80s/it]\u001b[A"
     ]
    },
    {
     "name": "stdout",
     "output_type": "stream",
     "text": [
      "[ERROR] database_image: NOLA_Peity_Bottle, query_image: bira_blonde\n"
     ]
    },
    {
     "name": "stderr",
     "output_type": "stream",
     "text": [
      "\n",
      " 46%|████▌     | 46/100 [16:26<24:22, 27.08s/it]\u001b[A"
     ]
    },
    {
     "name": "stdout",
     "output_type": "stream",
     "text": [
      "[ERROR] database_image: yuengling2, query_image: becks\n"
     ]
    },
    {
     "name": "stderr",
     "output_type": "stream",
     "text": [
      "\n",
      " 47%|████▋     | 47/100 [16:32<18:18, 20.73s/it]\u001b[A"
     ]
    },
    {
     "name": "stdout",
     "output_type": "stream",
     "text": [
      "[ERROR] database_image: NOLA_Peity_Bottle, query_image: New_Belgium_Ranger_Bottle\n"
     ]
    },
    {
     "name": "stderr",
     "output_type": "stream",
     "text": [
      "\n",
      " 48%|████▊     | 48/100 [16:37<13:52, 16.01s/it]\u001b[A"
     ]
    },
    {
     "name": "stdout",
     "output_type": "stream",
     "text": [
      "[ERROR] database_image: modelo_negra, query_image: MoMac Brewing Company\n"
     ]
    },
    {
     "name": "stderr",
     "output_type": "stream",
     "text": [
      "\n",
      " 49%|████▉     | 49/100 [16:44<11:15, 13.25s/it]\u001b[A"
     ]
    },
    {
     "name": "stdout",
     "output_type": "stream",
     "text": [
      "[ERROR] database_image: NOLA_Peity_Bottle, query_image: New_Belgium_Glutiny_Bottle\n"
     ]
    },
    {
     "name": "stderr",
     "output_type": "stream",
     "text": [
      "\n",
      " 50%|█████     | 50/100 [16:49<08:51, 10.63s/it]\u001b[A"
     ]
    },
    {
     "name": "stdout",
     "output_type": "stream",
     "text": [
      "[ERROR] database_image: bud_light_platinum2, query_image: Padding_Wood_Black_Cat_Bottle\n"
     ]
    },
    {
     "name": "stderr",
     "output_type": "stream",
     "text": [
      "\n",
      " 51%|█████     | 51/100 [17:03<09:40, 11.86s/it]\u001b[A"
     ]
    },
    {
     "name": "stdout",
     "output_type": "stream",
     "text": [
      "[ERROR] database_image: bud_light_platinum2, query_image: Mistress Brewing Company\n"
     ]
    },
    {
     "name": "stderr",
     "output_type": "stream",
     "text": [
      "\n",
      " 52%|█████▏    | 52/100 [17:14<09:17, 11.62s/it]\u001b[A"
     ]
    },
    {
     "name": "stdout",
     "output_type": "stream",
     "text": [
      "[ERROR] database_image: New_Belgium_Slow_Ride, query_image: michelob\n"
     ]
    },
    {
     "name": "stderr",
     "output_type": "stream",
     "text": [
      "\n",
      " 53%|█████▎    | 53/100 [17:25<08:44, 11.17s/it]\u001b[A"
     ]
    },
    {
     "name": "stdout",
     "output_type": "stream",
     "text": [
      "[ERROR] database_image: New_Belgium_Slow_Ride, query_image: bud_light_platinum2\n"
     ]
    },
    {
     "name": "stderr",
     "output_type": "stream",
     "text": [
      "\n",
      " 54%|█████▍    | 54/100 [17:27<06:38,  8.67s/it]\u001b[A"
     ]
    },
    {
     "name": "stdout",
     "output_type": "stream",
     "text": [
      "[ERROR] database_image: rolling_rock, query_image: Nail_Brewing_Brown_Bottle\n"
     ]
    },
    {
     "name": "stderr",
     "output_type": "stream",
     "text": [
      "\n",
      " 55%|█████▌    | 55/100 [19:21<30:02, 40.06s/it]\u001b[A"
     ]
    },
    {
     "name": "stdout",
     "output_type": "stream",
     "text": [
      "[ERROR] database_image: Mustang Brewing Company, query_image: heineken\n"
     ]
    },
    {
     "name": "stderr",
     "output_type": "stream",
     "text": [
      "\n",
      " 56%|█████▌    | 56/100 [19:51<27:13, 37.13s/it]\u001b[A"
     ]
    },
    {
     "name": "stdout",
     "output_type": "stream",
     "text": [
      "[ERROR] database_image: bud_light_platinum2, query_image: cold_trail_blonde_ale\n"
     ]
    },
    {
     "name": "stderr",
     "output_type": "stream",
     "text": [
      "\n",
      " 57%|█████▋    | 57/100 [20:42<29:39, 41.37s/it]\u001b[A\n",
      " 58%|█████▊    | 58/100 [20:55<22:55, 32.76s/it]\u001b[A"
     ]
    },
    {
     "name": "stdout",
     "output_type": "stream",
     "text": [
      "[ERROR] database_image: NOLA_Peity_Bottle, query_image: fat_tire2\n"
     ]
    },
    {
     "name": "stderr",
     "output_type": "stream",
     "text": [
      "\n",
      " 59%|█████▉    | 59/100 [22:28<34:45, 50.87s/it]\u001b[A"
     ]
    },
    {
     "name": "stdout",
     "output_type": "stream",
     "text": [
      "[ERROR] database_image: busch, query_image: budweiser\n"
     ]
    },
    {
     "name": "stderr",
     "output_type": "stream",
     "text": [
      "\n",
      " 60%|██████    | 60/100 [22:49<27:49, 41.74s/it]\u001b[A\n",
      " 61%|██████    | 61/100 [23:18<24:47, 38.13s/it]\u001b[A"
     ]
    },
    {
     "name": "stdout",
     "output_type": "stream",
     "text": [
      "[ERROR] database_image: fat_tire, query_image: Mother Earth Brewing Company[\n"
     ]
    },
    {
     "name": "stderr",
     "output_type": "stream",
     "text": [
      "\n",
      " 62%|██████▏   | 62/100 [25:02<36:38, 57.85s/it]\u001b[A"
     ]
    },
    {
     "name": "stdout",
     "output_type": "stream",
     "text": [
      "[ERROR] database_image: bud_light_platinum2, query_image: lion_lager\n"
     ]
    },
    {
     "name": "stderr",
     "output_type": "stream",
     "text": [
      "\n",
      " 63%|██████▎   | 63/100 [25:20<28:11, 45.72s/it]\u001b[A"
     ]
    },
    {
     "name": "stdout",
     "output_type": "stream",
     "text": [
      "[ERROR] database_image: NOLA_Peity_Bottle, query_image: bud_light_lime\n"
     ]
    },
    {
     "name": "stderr",
     "output_type": "stream",
     "text": [
      "\n",
      " 64%|██████▍   | 64/100 [25:24<19:59, 33.31s/it]\u001b[A"
     ]
    },
    {
     "name": "stdout",
     "output_type": "stream",
     "text": [
      "[ERROR] database_image: icehouse, query_image: New_Glarus_Spotted_Cow_Bottle\n"
     ]
    },
    {
     "name": "stderr",
     "output_type": "stream",
     "text": [
      "\n",
      " 65%|██████▌   | 65/100 [28:01<41:05, 70.44s/it]\u001b[A"
     ]
    },
    {
     "name": "stdout",
     "output_type": "stream",
     "text": [
      "[ERROR] database_image: corona_light, query_image: crafty_irish_stout\n"
     ]
    },
    {
     "name": "stderr",
     "output_type": "stream",
     "text": [
      "\n",
      " 66%|██████▌   | 66/100 [28:11<29:38, 52.32s/it]\u001b[A\n",
      " 67%|██████▋   | 67/100 [28:49<26:29, 48.17s/it]\u001b[A\n",
      " 68%|██████▊   | 68/100 [29:02<20:02, 37.58s/it]\u001b[A"
     ]
    },
    {
     "name": "stdout",
     "output_type": "stream",
     "text": [
      "[ERROR] database_image: hoegaarden, query_image: Moody Tongue Brewing Company\n"
     ]
    },
    {
     "name": "stderr",
     "output_type": "stream",
     "text": [
      "\n",
      " 69%|██████▉   | 69/100 [29:10<14:46, 28.60s/it]\u001b[A"
     ]
    },
    {
     "name": "stdout",
     "output_type": "stream",
     "text": [
      "[ERROR] database_image: Nashville_Lager_Beer_Bottle, query_image: becks_dark\n"
     ]
    },
    {
     "name": "stderr",
     "output_type": "stream",
     "text": [
      "\n",
      " 70%|███████   | 70/100 [29:53<16:31, 33.07s/it]\u001b[A"
     ]
    },
    {
     "name": "stdout",
     "output_type": "stream",
     "text": [
      "[ERROR] database_image: bud_light_platinum2, query_image: Hackensack_Brewing\n"
     ]
    },
    {
     "name": "stderr",
     "output_type": "stream",
     "text": [
      "\n",
      " 71%|███████   | 71/100 [30:11<13:45, 28.47s/it]\u001b[A\n",
      " 72%|███████▏  | 72/100 [30:35<12:33, 26.92s/it]\u001b[A\n",
      " 73%|███████▎  | 73/100 [31:50<18:40, 41.51s/it]\u001b[A"
     ]
    },
    {
     "name": "stdout",
     "output_type": "stream",
     "text": [
      "[ERROR] database_image: New_Glarus_Spotted_Cow_Bottle, query_image: yuengling\n"
     ]
    },
    {
     "name": "stderr",
     "output_type": "stream",
     "text": [
      "\n",
      " 74%|███████▍  | 74/100 [32:05<14:34, 33.64s/it]\u001b[A"
     ]
    },
    {
     "name": "stdout",
     "output_type": "stream",
     "text": [
      "[ERROR] database_image: hoegaarden, query_image: North_Coast_Steller_Bottle\n"
     ]
    },
    {
     "name": "stderr",
     "output_type": "stream",
     "text": [
      "\n",
      " 75%|███████▌  | 75/100 [32:19<11:28, 27.52s/it]\u001b[A"
     ]
    },
    {
     "name": "stdout",
     "output_type": "stream",
     "text": [
      "[ERROR] database_image: Hap & Harry's, query_image: yuengling2\n"
     ]
    },
    {
     "name": "stderr",
     "output_type": "stream",
     "text": [
      "\n",
      " 76%|███████▌  | 76/100 [33:02<12:54, 32.26s/it]\u001b[A"
     ]
    },
    {
     "name": "stdout",
     "output_type": "stream",
     "text": [
      "[ERROR] database_image: bud_light_platinum2, query_image: Half Day Brewing Company\n"
     ]
    },
    {
     "name": "stderr",
     "output_type": "stream",
     "text": [
      "\n",
      " 77%|███████▋  | 77/100 [33:25<11:16, 29.40s/it]\u001b[A"
     ]
    },
    {
     "name": "stdout",
     "output_type": "stream",
     "text": [
      "[ERROR] database_image: harrison_ford_birthday, query_image: heineken_light\n"
     ]
    },
    {
     "name": "stderr",
     "output_type": "stream",
     "text": [
      "\n",
      " 78%|███████▊  | 78/100 [33:36<08:47, 23.98s/it]\u001b[A"
     ]
    },
    {
     "name": "stdout",
     "output_type": "stream",
     "text": [
      "[ERROR] database_image: busch, query_image: miller_genuine_draft\n"
     ]
    },
    {
     "name": "stderr",
     "output_type": "stream",
     "text": [
      "\n",
      " 79%|███████▉  | 79/100 [34:10<09:27, 27.03s/it]\u001b[A\n",
      " 80%|████████  | 80/100 [34:28<08:07, 24.35s/it]\u001b[A"
     ]
    },
    {
     "name": "stdout",
     "output_type": "stream",
     "text": [
      "[ERROR] database_image: New_Belgium_Slow_Ride, query_image: bud_light_platinum\n"
     ]
    },
    {
     "name": "stderr",
     "output_type": "stream",
     "text": [
      "\n",
      " 81%|████████  | 81/100 [34:47<07:08, 22.53s/it]\u001b[A"
     ]
    },
    {
     "name": "stdout",
     "output_type": "stream",
     "text": [
      "[ERROR] database_image: busch, query_image: corona_extra\n"
     ]
    },
    {
     "name": "stderr",
     "output_type": "stream",
     "text": [
      "\n",
      " 82%|████████▏ | 82/100 [35:03<06:12, 20.72s/it]\u001b[A\n",
      " 83%|████████▎ | 83/100 [35:29<06:20, 22.36s/it]\u001b[A"
     ]
    },
    {
     "name": "stdout",
     "output_type": "stream",
     "text": [
      "[ERROR] database_image: busch, query_image: crafty_brewing_irish_red_ale\n"
     ]
    },
    {
     "name": "stderr",
     "output_type": "stream",
     "text": [
      "\n",
      " 84%|████████▍ | 84/100 [35:38<04:54, 18.39s/it]\u001b[A\n",
      " 85%|████████▌ | 85/100 [36:39<07:45, 31.01s/it]\u001b[A"
     ]
    },
    {
     "name": "stdout",
     "output_type": "stream",
     "text": [
      "[ERROR] database_image: bud_light_platinum2, query_image: Monday Night Brewing\n"
     ]
    },
    {
     "name": "stderr",
     "output_type": "stream",
     "text": [
      "\n",
      " 86%|████████▌ | 86/100 [38:59<14:53, 63.80s/it]\u001b[A"
     ]
    },
    {
     "name": "stdout",
     "output_type": "stream",
     "text": [
      "[ERROR] database_image: New_Belgium_Slow_Ride, query_image: Hap & Harry's\n"
     ]
    },
    {
     "name": "stderr",
     "output_type": "stream",
     "text": [
      "\n",
      " 87%|████████▋ | 87/100 [39:35<11:59, 55.34s/it]\u001b[A"
     ]
    },
    {
     "name": "stdout",
     "output_type": "stream",
     "text": [
      "[ERROR] database_image: New_Belgium_Slow_Ride, query_image: Mortalis Brewing Company\n"
     ]
    },
    {
     "name": "stderr",
     "output_type": "stream",
     "text": [
      "\n",
      " 88%|████████▊ | 88/100 [39:48<08:34, 42.86s/it]\u001b[A"
     ]
    },
    {
     "name": "stdout",
     "output_type": "stream",
     "text": [
      "[ERROR] database_image: New_Belgium_Slow_Ride, query_image: kingfisher_strong\n"
     ]
    },
    {
     "name": "stderr",
     "output_type": "stream",
     "text": [
      "\n",
      " 89%|████████▉ | 89/100 [40:14<06:53, 37.55s/it]\u001b[A\n",
      " 90%|█████████ | 90/100 [40:24<04:53, 29.38s/it]\u001b[A\n",
      " 91%|█████████ | 91/100 [41:29<06:01, 40.22s/it]\u001b[A"
     ]
    },
    {
     "name": "stdout",
     "output_type": "stream",
     "text": [
      "[ERROR] database_image: New_Belgium_Slow_Ride, query_image: dos_equis\n"
     ]
    },
    {
     "name": "stderr",
     "output_type": "stream",
     "text": [
      "\n",
      " 92%|█████████▏| 92/100 [42:29<06:09, 46.16s/it]\u001b[A"
     ]
    },
    {
     "name": "stdout",
     "output_type": "stream",
     "text": [
      "[ERROR] database_image: bud_light_platinum2, query_image: Hidden Sands Brewery Company logo\n"
     ]
    },
    {
     "name": "stderr",
     "output_type": "stream",
     "text": [
      "\n",
      " 93%|█████████▎| 93/100 [42:36<03:59, 34.17s/it]\u001b[A"
     ]
    },
    {
     "name": "stdout",
     "output_type": "stream",
     "text": [
      "[ERROR] database_image: NOLA_Peity_Bottle, query_image: New_Belgium_Slow_Ride\n"
     ]
    },
    {
     "name": "stderr",
     "output_type": "stream",
     "text": [
      "\n",
      " 94%|█████████▍| 94/100 [42:54<02:56, 29.45s/it]\u001b[A\n",
      " 95%|█████████▌| 95/100 [43:07<02:02, 24.55s/it]\u001b[A"
     ]
    },
    {
     "name": "stdout",
     "output_type": "stream",
     "text": [
      "[ERROR] database_image: New_Belgium_Slow_Ride, query_image: blue_moon2\n"
     ]
    },
    {
     "name": "stderr",
     "output_type": "stream",
     "text": [
      "\n",
      " 96%|█████████▌| 96/100 [43:17<01:20, 20.17s/it]\u001b[A"
     ]
    },
    {
     "name": "stdout",
     "output_type": "stream",
     "text": [
      "[ERROR] database_image: Mustang Brewing Company, query_image: NOLA_Peity_Bottle\n"
     ]
    },
    {
     "name": "stderr",
     "output_type": "stream",
     "text": [
      "\n",
      " 97%|█████████▋| 97/100 [43:37<01:00, 20.21s/it]\u001b[A\n",
      " 98%|█████████▊| 98/100 [45:11<01:24, 42.08s/it]\u001b[A"
     ]
    },
    {
     "name": "stdout",
     "output_type": "stream",
     "text": [
      "[ERROR] database_image: New_Belgium_Slow_Ride, query_image: miller_lite\n"
     ]
    },
    {
     "name": "stderr",
     "output_type": "stream",
     "text": [
      "\n",
      " 99%|█████████▉| 99/100 [45:17<00:31, 31.44s/it]\u001b[A"
     ]
    },
    {
     "name": "stdout",
     "output_type": "stream",
     "text": [
      "[ERROR] database_image: North_Coast_Steller_Bottle, query_image: ufo-gingerland\n"
     ]
    },
    {
     "name": "stderr",
     "output_type": "stream",
     "text": [
      "\n",
      "100%|██████████| 100/100 [45:43<00:00, 27.43s/it]\u001b[A"
     ]
    },
    {
     "name": "stdout",
     "output_type": "stream",
     "text": [
      "[INFO] Correct matches: 27 total queries: 100 Accuracy: 0.27\n"
     ]
    },
    {
     "name": "stderr",
     "output_type": "stream",
     "text": [
      "\n"
     ]
    }
   ],
   "source": [
    "l = '../pickle'\n",
    "load = 'Y'\n",
    "GOOD_MATCH_THRESH = 10\n",
    "\n",
    "query_images = '..images/query/'\n",
    "database_images = '../images/database/'\n",
    "descriptor_file = l\n",
    "load_descriptor =load\n",
    "\n",
    "database_descriptors = {}\n",
    "name_list = []\n",
    "surf = cv2.xfeatures2d.SURF_create(extended=True)\n",
    "#feature_extractor = cv2.xfeatures2d.SIFT_create()\n",
    "\n",
    "if load_descriptor == 'Y' or load_descriptor =='y':\n",
    "    print(\"Loading Pre Computed Descriptors\")\n",
    "    assert os.path.exists(descriptor_file)\n",
    "    with open(descriptor_file, 'rb') as file:\n",
    "        database_descriptors = pickle.load(file)\n",
    "else:\n",
    "    for image_name in tqdm(os.listdir(database_images)):\n",
    "        img = cv2.imread(database_images+image_name,0)\n",
    "        keypoint, descriptor = surf.detectAndCompute(img, None)\n",
    "        img_name,img_extension = os.path.splitext(image_name)\n",
    "        database_descriptors[img_name] = descriptor\n",
    "        name_list.append(img_name)\n",
    "    with open(descriptor_file, 'wb') as file:\n",
    "        pickle.dump(database_descriptors, file)\n",
    "\n",
    "print(\"--Database Descriptors Loaded--\")\n",
    "\n",
    "correct_count = 0\n",
    "\n",
    "\n",
    "for query_name in tqdm(os.listdir(query_images)):\n",
    "    max_count_name = None\n",
    "    max_count = 0\n",
    "    query = cv2.imread(query_images+query_name, 0)\n",
    "    _, q_desc = surf.detectAndCompute(query, None)\n",
    "    for database_name in database_descriptors.keys():\n",
    "        d_desc = database_descriptors[database_name]\n",
    "        FLANN_INDEX_KDTREE = 0\n",
    "        index_params = dict(algorithm = FLANN_INDEX_KDTREE, trees = 5)\n",
    "        search_params = dict(checks = 100)\n",
    "        flann = cv2.FlannBasedMatcher(index_params, search_params)\n",
    "        matches = flann.knnMatch(q_desc, d_desc, k=2)\n",
    "        matches_mask = [[0, 0] for i in range(len(matches))]\n",
    "        distances = list()\n",
    "        counts = list()\n",
    "        for i, (m, n) in enumerate(matches):\n",
    "            if m.distance < 0.7 * n.distance:\n",
    "                matches_mask[i] = [1, 0]\n",
    "                distances.append(m.distance)\n",
    "        counts.append(len(distances))\n",
    "        if len(distances) != 0:\n",
    "            if np.max(counts) > max_count:\n",
    "                max_count = np.max(counts)\n",
    "                max_count_name = database_name.split('/')[-1].split('.')[0]\n",
    "    if query_name.split('/')[-1].split('.')[0] == max_count_name:\n",
    "        correct_count += 1\n",
    "    else:\n",
    "        print('[ERROR] database_image: {}, query_image: {}'.format(max_count_name, query_name.split('/')[-1].split('.')[0]))\n",
    "print('[INFO] Correct matches: {} total queries: {} Accuracy: {}'.format(correct_count, len(os.listdir(query_images)), correct_count/len(os.listdir(query_images))))\n"
   ]
  },
  {
   "cell_type": "code",
   "execution_count": null,
   "metadata": {},
   "outputs": [],
   "source": []
  },
  {
   "cell_type": "code",
   "execution_count": null,
   "metadata": {},
   "outputs": [],
   "source": []
  },
  {
   "cell_type": "code",
   "execution_count": null,
   "metadata": {},
   "outputs": [],
   "source": []
  },
  {
   "cell_type": "code",
   "execution_count": null,
   "metadata": {},
   "outputs": [],
   "source": []
  },
  {
   "cell_type": "code",
   "execution_count": null,
   "metadata": {},
   "outputs": [],
   "source": []
  },
  {
   "cell_type": "code",
   "execution_count": null,
   "metadata": {},
   "outputs": [],
   "source": []
  }
 ],
 "metadata": {
  "kernelspec": {
   "display_name": "Python 3",
   "language": "python",
   "name": "python3"
  },
  "language_info": {
   "codemirror_mode": {
    "name": "ipython",
    "version": 3
   },
   "file_extension": ".py",
   "mimetype": "text/x-python",
   "name": "python",
   "nbconvert_exporter": "python",
   "pygments_lexer": "ipython3",
   "version": "3.6.9"
  }
 },
 "nbformat": 4,
 "nbformat_minor": 4
}
