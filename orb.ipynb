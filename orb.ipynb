{
 "cells": [
  {
   "cell_type": "code",
   "execution_count": 23,
   "metadata": {},
   "outputs": [
    {
     "data": {
      "text/plain": [
       "['/home/garima/Desktop/clutter/Beer_images/query/amstel_light.jpg',\n",
       " '/home/garima/Desktop/clutter/Beer_images/query/bira_blonde.jpg',\n",
       " '/home/garima/Desktop/clutter/Beer_images/query/becks_dark.jpg',\n",
       " '/home/garima/Desktop/clutter/Beer_images/query/becks.jpeg']"
      ]
     },
     "execution_count": 23,
     "metadata": {},
     "output_type": "execute_result"
    }
   ],
   "source": [
    "import cv2\n",
    "import numpy as np\n",
    "import glob  # for read file from folder\n",
    "import time  # for estimate processing time(optional)\n",
    "import matplotlib.pyplot as plt\n",
    "import copy\n",
    "\n",
    "\n",
    "q = '/home/garima/Desktop/clutter/Beer_images/query/*'\n",
    "d = '/home/garima/Desktop/clutter/Beer_images/database/*'\n",
    "GOOD_MATCH_THRESH = 10\n",
    "correct_count = 0\n",
    "query_images = glob.glob(q)\n",
    "database_images = glob.glob(d)\n",
    "query_images"
   ]
  },
  {
   "cell_type": "code",
   "execution_count": 24,
   "metadata": {},
   "outputs": [
    {
     "name": "stdout",
     "output_type": "stream",
     "text": [
      "2794\n",
      "2794\n",
      "2794\n",
      "2794\n",
      "[INFO] Max count: 2794 Database Image name: amstel_light Query image name: /home/garima/Desktop/clutter/Beer_images/query/amstel_light.jpg\n",
      "756\n",
      "756\n",
      "756\n",
      "756\n",
      "[INFO] Max count: 756 Database Image name: amstel_light Query image name: /home/garima/Desktop/clutter/Beer_images/query/bira_blonde.jpg\n",
      "[ERROR] database_image: amstel_light, query_image: bira_blonde\n",
      "624\n",
      "624\n",
      "624\n",
      "624\n",
      "[INFO] Max count: 624 Database Image name: amstel_light Query image name: /home/garima/Desktop/clutter/Beer_images/query/becks_dark.jpg\n",
      "[ERROR] database_image: amstel_light, query_image: becks_dark\n",
      "2426\n",
      "2426\n",
      "2426\n",
      "2426\n",
      "[INFO] Max count: 2426 Database Image name: amstel_light Query image name: /home/garima/Desktop/clutter/Beer_images/query/becks.jpeg\n",
      "[ERROR] database_image: amstel_light, query_image: becks\n"
     ]
    }
   ],
   "source": [
    "for query_name in query_images:\n",
    "    max_count_name = None\n",
    "    max_count = 0\n",
    "    query = cv2.imread(query_name, 0)\n",
    "    # _, q_desc = sift.main(query, verbose=True)\n",
    "#     _, q_desc = feature_extractor.detectAndCompute(query, None)\n",
    "    for database_name in database_images:\n",
    "        database = cv2.imread(query_name, 0)\n",
    "#         d_desc = database_features[database_name.split('/')[-1].split('.')[0]]\n",
    "        orb = cv2.ORB_create(5000, 2.0)\n",
    "#         keypoints_train, descriptors_train = orb.detectAndCompute(database, None)\n",
    "#         keypoints_query, descriptors_query = orb.detectAndCompute(query, None)\n",
    "        kp_logo, des_logo = orb.detectAndCompute(database, None)\n",
    "        kp_img, des_img = orb.detectAndCompute(query, None)\n",
    "        flann_index_lsh = 6\n",
    "        index_params = dict(algorithm=flann_index_lsh,\n",
    "                            table_number=12,\n",
    "                            key_size=20,\n",
    "                            multi_probe_level=2)\n",
    "        search_params = dict(checks=100)  # or pass empty dictionary\n",
    "        flann = cv2.FlannBasedMatcher(index_params, search_params)\n",
    "        matches = flann.knnMatch(des_logo, des_img, k=2)\n",
    "        print(len(matches))\n",
    "        matches_mask = [[0, 0] for i in range(len(matches))]\n",
    "        distances = list()\n",
    "        counts = list()\n",
    "        for i in range(len(matches)):            \n",
    "            if len(matches[i]) == 2:\n",
    "                m, n = matches[i]\n",
    "#         for i, (m, n) in enumerate(matches):\n",
    "                if m.distance < 0.7 * n.distance:\n",
    "                    matches_mask[i] = [1, 0]\n",
    "                    distances.append(m.distance)\n",
    "        counts.append(len(distances))\n",
    "        if len(distances) != 0:\n",
    "            if np.max(counts) > max_count:\n",
    "                max_count = np.max(counts)\n",
    "                max_count_name = database_name.split('/')[-1].split('.')[0]\n",
    "    print('[INFO] Max count: {} Database Image name: {} Query image name: {}'.format(max_count, max_count_name, query_name))\n",
    "    if query_name.split('/')[-1].split('.')[0] == max_count_name:\n",
    "        correct_count += 1\n",
    "    else:\n",
    "        print('[ERROR] database_image: {}, query_image: {}'.format(max_count_name, query_name.split('/')[-1].split('.')[0]))\n"
   ]
  },
  {
   "cell_type": "code",
   "execution_count": 25,
   "metadata": {},
   "outputs": [
    {
     "name": "stdout",
     "output_type": "stream",
     "text": [
      "[INFO] Correct matches: 1 total queries: 4 Accuracy: 0.25\n"
     ]
    }
   ],
   "source": [
    "print('[INFO] Correct matches: {} total queries: {} Accuracy: {}'.format(correct_count, len(query_images), correct_count/len(query_images)))"
   ]
  },
  {
   "cell_type": "code",
   "execution_count": null,
   "metadata": {},
   "outputs": [],
   "source": []
  }
 ],
 "metadata": {
  "kernelspec": {
   "display_name": "Python 3",
   "language": "python",
   "name": "python3"
  },
  "language_info": {
   "codemirror_mode": {
    "name": "ipython",
    "version": 3
   },
   "file_extension": ".py",
   "mimetype": "text/x-python",
   "name": "python",
   "nbconvert_exporter": "python",
   "pygments_lexer": "ipython3",
   "version": "3.6.9"
  }
 },
 "nbformat": 4,
 "nbformat_minor": 4
}
